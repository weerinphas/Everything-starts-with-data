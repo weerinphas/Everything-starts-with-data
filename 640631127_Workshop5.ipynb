{
 "cells": [
  {
   "cell_type": "markdown",
   "id": "98aea620",
   "metadata": {},
   "source": [
    "# Concatenating 2 Dataframe(Train and test) as adult_dataset.csv"
   ]
  },
  {
   "cell_type": "code",
   "execution_count": 1,
   "id": "1cd4127d",
   "metadata": {},
   "outputs": [],
   "source": [
    "import pandas as pd\n",
    "import numpy as np\n",
    "import seaborn as sns\n",
    "import matplotlib.pyplot as plt"
   ]
  },
  {
   "cell_type": "code",
   "execution_count": 2,
   "id": "6368b798",
   "metadata": {},
   "outputs": [],
   "source": [
    "from sklearn import metrics\n",
    "from sklearn.metrics import mean_absolute_error, precision_score, recall_score, f1_score\n",
    "from sklearn.model_selection import train_test_split, cross_val_score, GridSearchCV\n",
    "from sklearn.neighbors import KNeighborsClassifier"
   ]
  },
  {
   "cell_type": "code",
   "execution_count": 3,
   "id": "64ffd4ae",
   "metadata": {},
   "outputs": [],
   "source": [
    "# import df_train.csv and df_test.csv file\n",
    "df_train = pd.read_csv(\"df_train.csv\")\n",
    "df_test = pd.read_csv(\"df_test.csv\")"
   ]
  },
  {
   "cell_type": "code",
   "execution_count": 4,
   "id": "a86daeeb",
   "metadata": {
    "scrolled": true
   },
   "outputs": [
    {
     "data": {
      "text/html": [
       "<div>\n",
       "<style scoped>\n",
       "    .dataframe tbody tr th:only-of-type {\n",
       "        vertical-align: middle;\n",
       "    }\n",
       "\n",
       "    .dataframe tbody tr th {\n",
       "        vertical-align: top;\n",
       "    }\n",
       "\n",
       "    .dataframe thead th {\n",
       "        text-align: right;\n",
       "    }\n",
       "</style>\n",
       "<table border=\"1\" class=\"dataframe\">\n",
       "  <thead>\n",
       "    <tr style=\"text-align: right;\">\n",
       "      <th></th>\n",
       "      <th>age</th>\n",
       "      <th>hours_per_week</th>\n",
       "      <th>education_num_lv</th>\n",
       "      <th>cap_gain_low</th>\n",
       "      <th>cap_gain_high</th>\n",
       "      <th>cap_loss_low</th>\n",
       "      <th>cap_loss_high</th>\n",
       "      <th>Adm-clerical</th>\n",
       "      <th>Armed-Forces</th>\n",
       "      <th>Craft-repair</th>\n",
       "      <th>...</th>\n",
       "      <th>Transport-moving</th>\n",
       "      <th>Federal-gov</th>\n",
       "      <th>Local-gov</th>\n",
       "      <th>Never-worked</th>\n",
       "      <th>Private</th>\n",
       "      <th>Self-emp-inc</th>\n",
       "      <th>Self-emp-not-inc</th>\n",
       "      <th>State-gov</th>\n",
       "      <th>Without-pay</th>\n",
       "      <th>label_dummies</th>\n",
       "    </tr>\n",
       "  </thead>\n",
       "  <tbody>\n",
       "    <tr>\n",
       "      <th>0</th>\n",
       "      <td>0.301370</td>\n",
       "      <td>0.397959</td>\n",
       "      <td>3</td>\n",
       "      <td>1</td>\n",
       "      <td>0</td>\n",
       "      <td>1</td>\n",
       "      <td>0</td>\n",
       "      <td>1</td>\n",
       "      <td>0</td>\n",
       "      <td>0</td>\n",
       "      <td>...</td>\n",
       "      <td>0</td>\n",
       "      <td>0</td>\n",
       "      <td>0</td>\n",
       "      <td>0</td>\n",
       "      <td>0</td>\n",
       "      <td>0</td>\n",
       "      <td>0</td>\n",
       "      <td>1</td>\n",
       "      <td>0</td>\n",
       "      <td>0</td>\n",
       "    </tr>\n",
       "    <tr>\n",
       "      <th>1</th>\n",
       "      <td>0.452055</td>\n",
       "      <td>0.122449</td>\n",
       "      <td>3</td>\n",
       "      <td>1</td>\n",
       "      <td>0</td>\n",
       "      <td>1</td>\n",
       "      <td>0</td>\n",
       "      <td>0</td>\n",
       "      <td>0</td>\n",
       "      <td>0</td>\n",
       "      <td>...</td>\n",
       "      <td>0</td>\n",
       "      <td>0</td>\n",
       "      <td>0</td>\n",
       "      <td>0</td>\n",
       "      <td>0</td>\n",
       "      <td>0</td>\n",
       "      <td>1</td>\n",
       "      <td>0</td>\n",
       "      <td>0</td>\n",
       "      <td>0</td>\n",
       "    </tr>\n",
       "    <tr>\n",
       "      <th>2</th>\n",
       "      <td>0.287671</td>\n",
       "      <td>0.397959</td>\n",
       "      <td>2</td>\n",
       "      <td>1</td>\n",
       "      <td>0</td>\n",
       "      <td>1</td>\n",
       "      <td>0</td>\n",
       "      <td>0</td>\n",
       "      <td>0</td>\n",
       "      <td>0</td>\n",
       "      <td>...</td>\n",
       "      <td>0</td>\n",
       "      <td>0</td>\n",
       "      <td>0</td>\n",
       "      <td>0</td>\n",
       "      <td>1</td>\n",
       "      <td>0</td>\n",
       "      <td>0</td>\n",
       "      <td>0</td>\n",
       "      <td>0</td>\n",
       "      <td>0</td>\n",
       "    </tr>\n",
       "    <tr>\n",
       "      <th>3</th>\n",
       "      <td>0.493151</td>\n",
       "      <td>0.397959</td>\n",
       "      <td>1</td>\n",
       "      <td>1</td>\n",
       "      <td>0</td>\n",
       "      <td>1</td>\n",
       "      <td>0</td>\n",
       "      <td>0</td>\n",
       "      <td>0</td>\n",
       "      <td>0</td>\n",
       "      <td>...</td>\n",
       "      <td>0</td>\n",
       "      <td>0</td>\n",
       "      <td>0</td>\n",
       "      <td>0</td>\n",
       "      <td>1</td>\n",
       "      <td>0</td>\n",
       "      <td>0</td>\n",
       "      <td>0</td>\n",
       "      <td>0</td>\n",
       "      <td>0</td>\n",
       "    </tr>\n",
       "    <tr>\n",
       "      <th>4</th>\n",
       "      <td>0.150685</td>\n",
       "      <td>0.397959</td>\n",
       "      <td>3</td>\n",
       "      <td>1</td>\n",
       "      <td>0</td>\n",
       "      <td>1</td>\n",
       "      <td>0</td>\n",
       "      <td>0</td>\n",
       "      <td>0</td>\n",
       "      <td>0</td>\n",
       "      <td>...</td>\n",
       "      <td>0</td>\n",
       "      <td>0</td>\n",
       "      <td>0</td>\n",
       "      <td>0</td>\n",
       "      <td>1</td>\n",
       "      <td>0</td>\n",
       "      <td>0</td>\n",
       "      <td>0</td>\n",
       "      <td>0</td>\n",
       "      <td>0</td>\n",
       "    </tr>\n",
       "  </tbody>\n",
       "</table>\n",
       "<p>5 rows × 30 columns</p>\n",
       "</div>"
      ],
      "text/plain": [
       "        age  hours_per_week  education_num_lv  cap_gain_low  cap_gain_high  \\\n",
       "0  0.301370        0.397959                 3             1              0   \n",
       "1  0.452055        0.122449                 3             1              0   \n",
       "2  0.287671        0.397959                 2             1              0   \n",
       "3  0.493151        0.397959                 1             1              0   \n",
       "4  0.150685        0.397959                 3             1              0   \n",
       "\n",
       "   cap_loss_low  cap_loss_high   Adm-clerical   Armed-Forces   Craft-repair  \\\n",
       "0             1              0              1              0              0   \n",
       "1             1              0              0              0              0   \n",
       "2             1              0              0              0              0   \n",
       "3             1              0              0              0              0   \n",
       "4             1              0              0              0              0   \n",
       "\n",
       "   ...   Transport-moving   Federal-gov   Local-gov   Never-worked   Private  \\\n",
       "0  ...                  0             0           0              0         0   \n",
       "1  ...                  0             0           0              0         0   \n",
       "2  ...                  0             0           0              0         1   \n",
       "3  ...                  0             0           0              0         1   \n",
       "4  ...                  0             0           0              0         1   \n",
       "\n",
       "    Self-emp-inc   Self-emp-not-inc   State-gov   Without-pay  label_dummies  \n",
       "0              0                  0           1             0              0  \n",
       "1              0                  1           0             0              0  \n",
       "2              0                  0           0             0              0  \n",
       "3              0                  0           0             0              0  \n",
       "4              0                  0           0             0              0  \n",
       "\n",
       "[5 rows x 30 columns]"
      ]
     },
     "execution_count": 4,
     "metadata": {},
     "output_type": "execute_result"
    }
   ],
   "source": [
    "df_train.head()"
   ]
  },
  {
   "cell_type": "code",
   "execution_count": 5,
   "id": "07e8ac6c",
   "metadata": {
    "scrolled": true
   },
   "outputs": [
    {
     "data": {
      "text/html": [
       "<div>\n",
       "<style scoped>\n",
       "    .dataframe tbody tr th:only-of-type {\n",
       "        vertical-align: middle;\n",
       "    }\n",
       "\n",
       "    .dataframe tbody tr th {\n",
       "        vertical-align: top;\n",
       "    }\n",
       "\n",
       "    .dataframe thead th {\n",
       "        text-align: right;\n",
       "    }\n",
       "</style>\n",
       "<table border=\"1\" class=\"dataframe\">\n",
       "  <thead>\n",
       "    <tr style=\"text-align: right;\">\n",
       "      <th></th>\n",
       "      <th>age</th>\n",
       "      <th>hours_per_week</th>\n",
       "      <th>education_num_lv</th>\n",
       "      <th>cap_gain_low</th>\n",
       "      <th>cap_gain_high</th>\n",
       "      <th>cap_loss_low</th>\n",
       "      <th>cap_loss_high</th>\n",
       "      <th>Adm-clerical</th>\n",
       "      <th>Armed-Forces</th>\n",
       "      <th>Craft-repair</th>\n",
       "      <th>...</th>\n",
       "      <th>Transport-moving</th>\n",
       "      <th>Federal-gov</th>\n",
       "      <th>Local-gov</th>\n",
       "      <th>Never-worked</th>\n",
       "      <th>Private</th>\n",
       "      <th>Self-emp-inc</th>\n",
       "      <th>Self-emp-not-inc</th>\n",
       "      <th>State-gov</th>\n",
       "      <th>Without-pay</th>\n",
       "      <th>label_dummies</th>\n",
       "    </tr>\n",
       "  </thead>\n",
       "  <tbody>\n",
       "    <tr>\n",
       "      <th>0</th>\n",
       "      <td>0.109589</td>\n",
       "      <td>0.397959</td>\n",
       "      <td>3</td>\n",
       "      <td>1</td>\n",
       "      <td>0</td>\n",
       "      <td>1</td>\n",
       "      <td>0</td>\n",
       "      <td>0</td>\n",
       "      <td>0</td>\n",
       "      <td>0</td>\n",
       "      <td>...</td>\n",
       "      <td>0</td>\n",
       "      <td>0</td>\n",
       "      <td>0</td>\n",
       "      <td>0</td>\n",
       "      <td>1</td>\n",
       "      <td>0</td>\n",
       "      <td>0</td>\n",
       "      <td>0</td>\n",
       "      <td>0</td>\n",
       "      <td>0</td>\n",
       "    </tr>\n",
       "    <tr>\n",
       "      <th>1</th>\n",
       "      <td>0.287671</td>\n",
       "      <td>0.500000</td>\n",
       "      <td>3</td>\n",
       "      <td>1</td>\n",
       "      <td>0</td>\n",
       "      <td>1</td>\n",
       "      <td>0</td>\n",
       "      <td>0</td>\n",
       "      <td>0</td>\n",
       "      <td>0</td>\n",
       "      <td>...</td>\n",
       "      <td>0</td>\n",
       "      <td>0</td>\n",
       "      <td>0</td>\n",
       "      <td>0</td>\n",
       "      <td>1</td>\n",
       "      <td>0</td>\n",
       "      <td>0</td>\n",
       "      <td>0</td>\n",
       "      <td>0</td>\n",
       "      <td>0</td>\n",
       "    </tr>\n",
       "    <tr>\n",
       "      <th>2</th>\n",
       "      <td>0.150685</td>\n",
       "      <td>0.397959</td>\n",
       "      <td>2</td>\n",
       "      <td>1</td>\n",
       "      <td>0</td>\n",
       "      <td>1</td>\n",
       "      <td>0</td>\n",
       "      <td>0</td>\n",
       "      <td>0</td>\n",
       "      <td>0</td>\n",
       "      <td>...</td>\n",
       "      <td>0</td>\n",
       "      <td>0</td>\n",
       "      <td>1</td>\n",
       "      <td>0</td>\n",
       "      <td>0</td>\n",
       "      <td>0</td>\n",
       "      <td>0</td>\n",
       "      <td>0</td>\n",
       "      <td>0</td>\n",
       "      <td>1</td>\n",
       "    </tr>\n",
       "    <tr>\n",
       "      <th>3</th>\n",
       "      <td>0.369863</td>\n",
       "      <td>0.397959</td>\n",
       "      <td>1</td>\n",
       "      <td>1</td>\n",
       "      <td>0</td>\n",
       "      <td>1</td>\n",
       "      <td>0</td>\n",
       "      <td>0</td>\n",
       "      <td>0</td>\n",
       "      <td>0</td>\n",
       "      <td>...</td>\n",
       "      <td>0</td>\n",
       "      <td>0</td>\n",
       "      <td>0</td>\n",
       "      <td>0</td>\n",
       "      <td>1</td>\n",
       "      <td>0</td>\n",
       "      <td>0</td>\n",
       "      <td>0</td>\n",
       "      <td>0</td>\n",
       "      <td>1</td>\n",
       "    </tr>\n",
       "    <tr>\n",
       "      <th>4</th>\n",
       "      <td>0.013699</td>\n",
       "      <td>0.295918</td>\n",
       "      <td>3</td>\n",
       "      <td>1</td>\n",
       "      <td>0</td>\n",
       "      <td>1</td>\n",
       "      <td>0</td>\n",
       "      <td>0</td>\n",
       "      <td>0</td>\n",
       "      <td>0</td>\n",
       "      <td>...</td>\n",
       "      <td>0</td>\n",
       "      <td>0</td>\n",
       "      <td>0</td>\n",
       "      <td>0</td>\n",
       "      <td>1</td>\n",
       "      <td>0</td>\n",
       "      <td>0</td>\n",
       "      <td>0</td>\n",
       "      <td>0</td>\n",
       "      <td>0</td>\n",
       "    </tr>\n",
       "  </tbody>\n",
       "</table>\n",
       "<p>5 rows × 30 columns</p>\n",
       "</div>"
      ],
      "text/plain": [
       "        age  hours_per_week  education_num_lv  cap_gain_low  cap_gain_high  \\\n",
       "0  0.109589        0.397959                 3             1              0   \n",
       "1  0.287671        0.500000                 3             1              0   \n",
       "2  0.150685        0.397959                 2             1              0   \n",
       "3  0.369863        0.397959                 1             1              0   \n",
       "4  0.013699        0.295918                 3             1              0   \n",
       "\n",
       "   cap_loss_low  cap_loss_high   Adm-clerical   Armed-Forces   Craft-repair  \\\n",
       "0             1              0              0              0              0   \n",
       "1             1              0              0              0              0   \n",
       "2             1              0              0              0              0   \n",
       "3             1              0              0              0              0   \n",
       "4             1              0              0              0              0   \n",
       "\n",
       "   ...   Transport-moving   Federal-gov   Local-gov   Never-worked   Private  \\\n",
       "0  ...                  0             0           0              0         1   \n",
       "1  ...                  0             0           0              0         1   \n",
       "2  ...                  0             0           1              0         0   \n",
       "3  ...                  0             0           0              0         1   \n",
       "4  ...                  0             0           0              0         1   \n",
       "\n",
       "    Self-emp-inc   Self-emp-not-inc   State-gov   Without-pay  label_dummies  \n",
       "0              0                  0           0             0              0  \n",
       "1              0                  0           0             0              0  \n",
       "2              0                  0           0             0              1  \n",
       "3              0                  0           0             0              1  \n",
       "4              0                  0           0             0              0  \n",
       "\n",
       "[5 rows x 30 columns]"
      ]
     },
     "execution_count": 5,
     "metadata": {},
     "output_type": "execute_result"
    }
   ],
   "source": [
    "df_test.head()"
   ]
  },
  {
   "cell_type": "code",
   "execution_count": 6,
   "id": "0fe91814",
   "metadata": {},
   "outputs": [
    {
     "name": "stdout",
     "output_type": "stream",
     "text": [
      "Dimension of df_train: (32561, 30) AND Dimension of df_test: (16281, 30)\n"
     ]
    }
   ],
   "source": [
    "#The number of columns and rows for each dataset\n",
    "print(\"Dimension of df_train:\", df_train.shape, \"AND Dimension of df_test:\", df_test.shape)"
   ]
  },
  {
   "cell_type": "code",
   "execution_count": 7,
   "id": "40d5026f",
   "metadata": {},
   "outputs": [
    {
     "data": {
      "text/plain": [
       "(48842, 30)"
      ]
     },
     "execution_count": 7,
     "metadata": {},
     "output_type": "execute_result"
    }
   ],
   "source": [
    "#Concatenating 2 Dataframe(Train and test)\n",
    "# df = pd.concat([df_train,df_test]),axis=0) --> concatenate row\n",
    "# df = pd.concat([df_train,df_test]),axis=1) --> concatenate column\n",
    "df = pd.concat([df_train,df_test], axis = 0)\n",
    "df.shape"
   ]
  },
  {
   "cell_type": "code",
   "execution_count": 8,
   "id": "f1aaa4af",
   "metadata": {},
   "outputs": [],
   "source": [
    "df.to_csv(\"adult_dataset.csv\", index=False)"
   ]
  },
  {
   "cell_type": "markdown",
   "id": "7ded7fbe",
   "metadata": {},
   "source": [
    "# Split adult_dataset for train and test"
   ]
  },
  {
   "cell_type": "code",
   "execution_count": 9,
   "id": "00a60d43",
   "metadata": {},
   "outputs": [],
   "source": [
    "# import df_train.csv and df_test.csv file\n",
    "df  = pd.read_csv(\"adult_dataset.csv\")"
   ]
  },
  {
   "cell_type": "code",
   "execution_count": 10,
   "id": "fb4ae4a1",
   "metadata": {},
   "outputs": [
    {
     "data": {
      "text/html": [
       "<div>\n",
       "<style scoped>\n",
       "    .dataframe tbody tr th:only-of-type {\n",
       "        vertical-align: middle;\n",
       "    }\n",
       "\n",
       "    .dataframe tbody tr th {\n",
       "        vertical-align: top;\n",
       "    }\n",
       "\n",
       "    .dataframe thead th {\n",
       "        text-align: right;\n",
       "    }\n",
       "</style>\n",
       "<table border=\"1\" class=\"dataframe\">\n",
       "  <thead>\n",
       "    <tr style=\"text-align: right;\">\n",
       "      <th></th>\n",
       "      <th>age</th>\n",
       "      <th>hours_per_week</th>\n",
       "      <th>education_num_lv</th>\n",
       "      <th>cap_gain_low</th>\n",
       "      <th>cap_gain_high</th>\n",
       "      <th>cap_loss_low</th>\n",
       "      <th>cap_loss_high</th>\n",
       "      <th>Adm-clerical</th>\n",
       "      <th>Armed-Forces</th>\n",
       "      <th>Craft-repair</th>\n",
       "      <th>...</th>\n",
       "      <th>Transport-moving</th>\n",
       "      <th>Federal-gov</th>\n",
       "      <th>Local-gov</th>\n",
       "      <th>Never-worked</th>\n",
       "      <th>Private</th>\n",
       "      <th>Self-emp-inc</th>\n",
       "      <th>Self-emp-not-inc</th>\n",
       "      <th>State-gov</th>\n",
       "      <th>Without-pay</th>\n",
       "      <th>label_dummies</th>\n",
       "    </tr>\n",
       "  </thead>\n",
       "  <tbody>\n",
       "    <tr>\n",
       "      <th>0</th>\n",
       "      <td>0.301370</td>\n",
       "      <td>0.397959</td>\n",
       "      <td>3</td>\n",
       "      <td>1</td>\n",
       "      <td>0</td>\n",
       "      <td>1</td>\n",
       "      <td>0</td>\n",
       "      <td>1</td>\n",
       "      <td>0</td>\n",
       "      <td>0</td>\n",
       "      <td>...</td>\n",
       "      <td>0</td>\n",
       "      <td>0</td>\n",
       "      <td>0</td>\n",
       "      <td>0</td>\n",
       "      <td>0</td>\n",
       "      <td>0</td>\n",
       "      <td>0</td>\n",
       "      <td>1</td>\n",
       "      <td>0</td>\n",
       "      <td>0</td>\n",
       "    </tr>\n",
       "    <tr>\n",
       "      <th>1</th>\n",
       "      <td>0.452055</td>\n",
       "      <td>0.122449</td>\n",
       "      <td>3</td>\n",
       "      <td>1</td>\n",
       "      <td>0</td>\n",
       "      <td>1</td>\n",
       "      <td>0</td>\n",
       "      <td>0</td>\n",
       "      <td>0</td>\n",
       "      <td>0</td>\n",
       "      <td>...</td>\n",
       "      <td>0</td>\n",
       "      <td>0</td>\n",
       "      <td>0</td>\n",
       "      <td>0</td>\n",
       "      <td>0</td>\n",
       "      <td>0</td>\n",
       "      <td>1</td>\n",
       "      <td>0</td>\n",
       "      <td>0</td>\n",
       "      <td>0</td>\n",
       "    </tr>\n",
       "    <tr>\n",
       "      <th>2</th>\n",
       "      <td>0.287671</td>\n",
       "      <td>0.397959</td>\n",
       "      <td>2</td>\n",
       "      <td>1</td>\n",
       "      <td>0</td>\n",
       "      <td>1</td>\n",
       "      <td>0</td>\n",
       "      <td>0</td>\n",
       "      <td>0</td>\n",
       "      <td>0</td>\n",
       "      <td>...</td>\n",
       "      <td>0</td>\n",
       "      <td>0</td>\n",
       "      <td>0</td>\n",
       "      <td>0</td>\n",
       "      <td>1</td>\n",
       "      <td>0</td>\n",
       "      <td>0</td>\n",
       "      <td>0</td>\n",
       "      <td>0</td>\n",
       "      <td>0</td>\n",
       "    </tr>\n",
       "    <tr>\n",
       "      <th>3</th>\n",
       "      <td>0.493151</td>\n",
       "      <td>0.397959</td>\n",
       "      <td>1</td>\n",
       "      <td>1</td>\n",
       "      <td>0</td>\n",
       "      <td>1</td>\n",
       "      <td>0</td>\n",
       "      <td>0</td>\n",
       "      <td>0</td>\n",
       "      <td>0</td>\n",
       "      <td>...</td>\n",
       "      <td>0</td>\n",
       "      <td>0</td>\n",
       "      <td>0</td>\n",
       "      <td>0</td>\n",
       "      <td>1</td>\n",
       "      <td>0</td>\n",
       "      <td>0</td>\n",
       "      <td>0</td>\n",
       "      <td>0</td>\n",
       "      <td>0</td>\n",
       "    </tr>\n",
       "    <tr>\n",
       "      <th>4</th>\n",
       "      <td>0.150685</td>\n",
       "      <td>0.397959</td>\n",
       "      <td>3</td>\n",
       "      <td>1</td>\n",
       "      <td>0</td>\n",
       "      <td>1</td>\n",
       "      <td>0</td>\n",
       "      <td>0</td>\n",
       "      <td>0</td>\n",
       "      <td>0</td>\n",
       "      <td>...</td>\n",
       "      <td>0</td>\n",
       "      <td>0</td>\n",
       "      <td>0</td>\n",
       "      <td>0</td>\n",
       "      <td>1</td>\n",
       "      <td>0</td>\n",
       "      <td>0</td>\n",
       "      <td>0</td>\n",
       "      <td>0</td>\n",
       "      <td>0</td>\n",
       "    </tr>\n",
       "  </tbody>\n",
       "</table>\n",
       "<p>5 rows × 30 columns</p>\n",
       "</div>"
      ],
      "text/plain": [
       "        age  hours_per_week  education_num_lv  cap_gain_low  cap_gain_high  \\\n",
       "0  0.301370        0.397959                 3             1              0   \n",
       "1  0.452055        0.122449                 3             1              0   \n",
       "2  0.287671        0.397959                 2             1              0   \n",
       "3  0.493151        0.397959                 1             1              0   \n",
       "4  0.150685        0.397959                 3             1              0   \n",
       "\n",
       "   cap_loss_low  cap_loss_high   Adm-clerical   Armed-Forces   Craft-repair  \\\n",
       "0             1              0              1              0              0   \n",
       "1             1              0              0              0              0   \n",
       "2             1              0              0              0              0   \n",
       "3             1              0              0              0              0   \n",
       "4             1              0              0              0              0   \n",
       "\n",
       "   ...   Transport-moving   Federal-gov   Local-gov   Never-worked   Private  \\\n",
       "0  ...                  0             0           0              0         0   \n",
       "1  ...                  0             0           0              0         0   \n",
       "2  ...                  0             0           0              0         1   \n",
       "3  ...                  0             0           0              0         1   \n",
       "4  ...                  0             0           0              0         1   \n",
       "\n",
       "    Self-emp-inc   Self-emp-not-inc   State-gov   Without-pay  label_dummies  \n",
       "0              0                  0           1             0              0  \n",
       "1              0                  1           0             0              0  \n",
       "2              0                  0           0             0              0  \n",
       "3              0                  0           0             0              0  \n",
       "4              0                  0           0             0              0  \n",
       "\n",
       "[5 rows x 30 columns]"
      ]
     },
     "execution_count": 10,
     "metadata": {},
     "output_type": "execute_result"
    }
   ],
   "source": [
    "df.head()"
   ]
  },
  {
   "cell_type": "code",
   "execution_count": 11,
   "id": "b458e223",
   "metadata": {},
   "outputs": [
    {
     "data": {
      "text/plain": [
       "0    0\n",
       "1    0\n",
       "2    0\n",
       "3    0\n",
       "4    0\n",
       "Name: label_dummies, dtype: int64"
      ]
     },
     "execution_count": 11,
     "metadata": {},
     "output_type": "execute_result"
    }
   ],
   "source": [
    "y_data = df['label_dummies']\n",
    "y_data.head()"
   ]
  },
  {
   "cell_type": "code",
   "execution_count": 12,
   "id": "790e4c6e",
   "metadata": {},
   "outputs": [
    {
     "data": {
      "text/html": [
       "<div>\n",
       "<style scoped>\n",
       "    .dataframe tbody tr th:only-of-type {\n",
       "        vertical-align: middle;\n",
       "    }\n",
       "\n",
       "    .dataframe tbody tr th {\n",
       "        vertical-align: top;\n",
       "    }\n",
       "\n",
       "    .dataframe thead th {\n",
       "        text-align: right;\n",
       "    }\n",
       "</style>\n",
       "<table border=\"1\" class=\"dataframe\">\n",
       "  <thead>\n",
       "    <tr style=\"text-align: right;\">\n",
       "      <th></th>\n",
       "      <th>age</th>\n",
       "      <th>hours_per_week</th>\n",
       "      <th>education_num_lv</th>\n",
       "      <th>cap_gain_low</th>\n",
       "      <th>cap_gain_high</th>\n",
       "      <th>cap_loss_low</th>\n",
       "      <th>cap_loss_high</th>\n",
       "      <th>Adm-clerical</th>\n",
       "      <th>Armed-Forces</th>\n",
       "      <th>Craft-repair</th>\n",
       "      <th>...</th>\n",
       "      <th>Tech-support</th>\n",
       "      <th>Transport-moving</th>\n",
       "      <th>Federal-gov</th>\n",
       "      <th>Local-gov</th>\n",
       "      <th>Never-worked</th>\n",
       "      <th>Private</th>\n",
       "      <th>Self-emp-inc</th>\n",
       "      <th>Self-emp-not-inc</th>\n",
       "      <th>State-gov</th>\n",
       "      <th>Without-pay</th>\n",
       "    </tr>\n",
       "  </thead>\n",
       "  <tbody>\n",
       "    <tr>\n",
       "      <th>0</th>\n",
       "      <td>0.301370</td>\n",
       "      <td>0.397959</td>\n",
       "      <td>3</td>\n",
       "      <td>1</td>\n",
       "      <td>0</td>\n",
       "      <td>1</td>\n",
       "      <td>0</td>\n",
       "      <td>1</td>\n",
       "      <td>0</td>\n",
       "      <td>0</td>\n",
       "      <td>...</td>\n",
       "      <td>0</td>\n",
       "      <td>0</td>\n",
       "      <td>0</td>\n",
       "      <td>0</td>\n",
       "      <td>0</td>\n",
       "      <td>0</td>\n",
       "      <td>0</td>\n",
       "      <td>0</td>\n",
       "      <td>1</td>\n",
       "      <td>0</td>\n",
       "    </tr>\n",
       "    <tr>\n",
       "      <th>1</th>\n",
       "      <td>0.452055</td>\n",
       "      <td>0.122449</td>\n",
       "      <td>3</td>\n",
       "      <td>1</td>\n",
       "      <td>0</td>\n",
       "      <td>1</td>\n",
       "      <td>0</td>\n",
       "      <td>0</td>\n",
       "      <td>0</td>\n",
       "      <td>0</td>\n",
       "      <td>...</td>\n",
       "      <td>0</td>\n",
       "      <td>0</td>\n",
       "      <td>0</td>\n",
       "      <td>0</td>\n",
       "      <td>0</td>\n",
       "      <td>0</td>\n",
       "      <td>0</td>\n",
       "      <td>1</td>\n",
       "      <td>0</td>\n",
       "      <td>0</td>\n",
       "    </tr>\n",
       "    <tr>\n",
       "      <th>2</th>\n",
       "      <td>0.287671</td>\n",
       "      <td>0.397959</td>\n",
       "      <td>2</td>\n",
       "      <td>1</td>\n",
       "      <td>0</td>\n",
       "      <td>1</td>\n",
       "      <td>0</td>\n",
       "      <td>0</td>\n",
       "      <td>0</td>\n",
       "      <td>0</td>\n",
       "      <td>...</td>\n",
       "      <td>0</td>\n",
       "      <td>0</td>\n",
       "      <td>0</td>\n",
       "      <td>0</td>\n",
       "      <td>0</td>\n",
       "      <td>1</td>\n",
       "      <td>0</td>\n",
       "      <td>0</td>\n",
       "      <td>0</td>\n",
       "      <td>0</td>\n",
       "    </tr>\n",
       "    <tr>\n",
       "      <th>3</th>\n",
       "      <td>0.493151</td>\n",
       "      <td>0.397959</td>\n",
       "      <td>1</td>\n",
       "      <td>1</td>\n",
       "      <td>0</td>\n",
       "      <td>1</td>\n",
       "      <td>0</td>\n",
       "      <td>0</td>\n",
       "      <td>0</td>\n",
       "      <td>0</td>\n",
       "      <td>...</td>\n",
       "      <td>0</td>\n",
       "      <td>0</td>\n",
       "      <td>0</td>\n",
       "      <td>0</td>\n",
       "      <td>0</td>\n",
       "      <td>1</td>\n",
       "      <td>0</td>\n",
       "      <td>0</td>\n",
       "      <td>0</td>\n",
       "      <td>0</td>\n",
       "    </tr>\n",
       "    <tr>\n",
       "      <th>4</th>\n",
       "      <td>0.150685</td>\n",
       "      <td>0.397959</td>\n",
       "      <td>3</td>\n",
       "      <td>1</td>\n",
       "      <td>0</td>\n",
       "      <td>1</td>\n",
       "      <td>0</td>\n",
       "      <td>0</td>\n",
       "      <td>0</td>\n",
       "      <td>0</td>\n",
       "      <td>...</td>\n",
       "      <td>0</td>\n",
       "      <td>0</td>\n",
       "      <td>0</td>\n",
       "      <td>0</td>\n",
       "      <td>0</td>\n",
       "      <td>1</td>\n",
       "      <td>0</td>\n",
       "      <td>0</td>\n",
       "      <td>0</td>\n",
       "      <td>0</td>\n",
       "    </tr>\n",
       "  </tbody>\n",
       "</table>\n",
       "<p>5 rows × 29 columns</p>\n",
       "</div>"
      ],
      "text/plain": [
       "        age  hours_per_week  education_num_lv  cap_gain_low  cap_gain_high  \\\n",
       "0  0.301370        0.397959                 3             1              0   \n",
       "1  0.452055        0.122449                 3             1              0   \n",
       "2  0.287671        0.397959                 2             1              0   \n",
       "3  0.493151        0.397959                 1             1              0   \n",
       "4  0.150685        0.397959                 3             1              0   \n",
       "\n",
       "   cap_loss_low  cap_loss_high   Adm-clerical   Armed-Forces   Craft-repair  \\\n",
       "0             1              0              1              0              0   \n",
       "1             1              0              0              0              0   \n",
       "2             1              0              0              0              0   \n",
       "3             1              0              0              0              0   \n",
       "4             1              0              0              0              0   \n",
       "\n",
       "   ...   Tech-support   Transport-moving   Federal-gov   Local-gov  \\\n",
       "0  ...              0                  0             0           0   \n",
       "1  ...              0                  0             0           0   \n",
       "2  ...              0                  0             0           0   \n",
       "3  ...              0                  0             0           0   \n",
       "4  ...              0                  0             0           0   \n",
       "\n",
       "    Never-worked   Private   Self-emp-inc   Self-emp-not-inc   State-gov  \\\n",
       "0              0         0              0                  0           1   \n",
       "1              0         0              0                  1           0   \n",
       "2              0         1              0                  0           0   \n",
       "3              0         1              0                  0           0   \n",
       "4              0         1              0                  0           0   \n",
       "\n",
       "    Without-pay  \n",
       "0             0  \n",
       "1             0  \n",
       "2             0  \n",
       "3             0  \n",
       "4             0  \n",
       "\n",
       "[5 rows x 29 columns]"
      ]
     },
     "execution_count": 12,
     "metadata": {},
     "output_type": "execute_result"
    }
   ],
   "source": [
    "x_data = df.drop('label_dummies', axis = 1)\n",
    "x_data.head()"
   ]
  },
  {
   "cell_type": "markdown",
   "id": "4ae0f6ba",
   "metadata": {},
   "source": [
    "# Find the optimal test size"
   ]
  },
  {
   "cell_type": "markdown",
   "id": "75757f58",
   "metadata": {},
   "source": [
    "## Find the optimal random state"
   ]
  },
  {
   "cell_type": "code",
   "execution_count": null,
   "id": "45d1d2dd",
   "metadata": {},
   "outputs": [],
   "source": [
    "x = []\n",
    "y_acc = []\n",
    "y_pre = []\n",
    "y_re = []\n",
    "y_f1 = []\n",
    "\n",
    "for n in range (10): \n",
    "    \n",
    "    x_train, x_test, y_train, y_test = train_test_split(x_data, y_data, test_size=0.10, random_state=n)\n",
    "    x.append(n)\n",
    "    \n",
    "    knn = KNeighborsClassifier(n_neighbors = 5)\n",
    "    knn.fit(x_train, y_train)\n",
    "    y_predict = knn.predict(x_test)\n",
    "    \n",
    "    acc = metrics.accuracy_score(y_test,y_predict)\n",
    "    pre = metrics.precision_score(y_test,y_predict)\n",
    "    re = metrics.recall_score(y_test,y_predict)\n",
    "    f1 = metrics.f1_score(y_test,y_predict)\n",
    "    \n",
    "    y_acc.append(acc)\n",
    "    y_pre.append(pre)\n",
    "    y_re.append(re)\n",
    "    y_f1.append(f1)\n",
    "    \n",
    "    #print(f\"Accuracy (randon state {n}): \", metrics.accuracy_score(y_test,y_predict))\n",
    "    #print(f\"Precision (randon state {n}): \", metrics.precision_score(y_test,y_predict))\n",
    "    #print(f\"Recall (randon state {n}): \", metrics.recall_score(y_test,y_predict))\n",
    "    #print(f\"F1 (randon state {n}): \", metrics.f1_score(y_test,y_predict))\n",
    "    #print()\n",
    "    \n",
    "\n",
    "    \n"
   ]
  },
  {
   "cell_type": "code",
   "execution_count": null,
   "id": "b9db929d",
   "metadata": {},
   "outputs": [],
   "source": [
    "# for n in range (0,101): \n",
    "    \n",
    "#     x_train, x_test, y_train, y_test = train_test_split(x_data, y_data, test_size=0.10, random_state=n)\n",
    "    \n",
    "#     knn = KNeighborsClassifier(n_neighbors = 5)\n",
    "#     knn.fit(x_train, y_train)\n",
    "    \n",
    "#     y_predict = knn.predict(x_test)\n",
    "#     print(f\"Accuracy (randon state {n}): \", metrics.accuracy_score(y_test,y_predict))"
   ]
  },
  {
   "cell_type": "markdown",
   "id": "4d075131",
   "metadata": {},
   "source": [
    "## Choose the most optimal random_state"
   ]
  },
  {
   "cell_type": "markdown",
   "id": "0cae4305",
   "metadata": {},
   "source": [
    "We are using random_state number in range 1 - 100<br/>\n",
    "From the result of the trial random_state, we can see that\n",
    "at the random_state = 0 represents the optimal metric evaluation as follows:<br/>\n",
    "\n",
    "Accuracy :  0.7948822927328557<br/>\n",
    "Precision :  0.5739030023094688<br/>\n",
    "Recall :  0.4398230088495575<br/>\n",
    "F1 :  0.4979959919839679<br/>"
   ]
  },
  {
   "cell_type": "code",
   "execution_count": 13,
   "id": "fe5b04a8",
   "metadata": {},
   "outputs": [
    {
     "name": "stdout",
     "output_type": "stream",
     "text": [
      "Number of test (test size = 0.1) sample:  4885\n",
      "Number of train sample:  43957\n",
      "Number of test (test size = 0.2) sample:  9769\n",
      "Number of train sample:  39073\n",
      "Number of test (test size = 0.33) sample:  16118\n",
      "Number of train sample:  32724\n",
      "Number of test (test size = 0.4) sample:  19537\n",
      "Number of train sample:  29305\n",
      "Number of test (test size = 0.5) sample:  24421\n",
      "Number of train sample:  24421\n"
     ]
    }
   ],
   "source": [
    "random_size = [0.10, 0.20, 0.33, 0.40, 0.50]\n",
    "#https://scikit-learn.org/stable/modules/generated/sklearn.model_selection.train_test_split.html\n",
    "\n",
    "for i in random_size: \n",
    "    x_train, x_test, y_train, y_test = train_test_split(x_data, y_data, test_size=i, random_state=0)\n",
    "    print(f\"Number of test (test size = {i}) sample: \", x_test.shape[0])\n",
    "    print(\"Number of train sample: \", x_train.shape[0])\n",
    "    \n",
    "    test_size = i"
   ]
  },
  {
   "cell_type": "code",
   "execution_count": 14,
   "id": "81f0a336",
   "metadata": {},
   "outputs": [],
   "source": [
    "y_acc1 = []\n",
    "y_pre1 = []\n",
    "y_re1 = []\n",
    "y_f_1 = []\n",
    "random_size = [0.10, 0.20, 0.33, 0.40, 0.50]\n",
    "\n",
    "def test_size_trial(y_acc1, y_pre1, y_re1, y_f_1):\n",
    "\n",
    "    for i in random_size: \n",
    "\n",
    "        x_train, x_test, y_train, y_test = train_test_split(x_data, y_data, test_size=i, random_state=0)\n",
    "\n",
    "        knn = KNeighborsClassifier(n_neighbors = 5)\n",
    "        knn.fit(x_train, y_train)\n",
    "        y_predict = knn.predict(x_test)\n",
    "\n",
    "        acc1 = metrics.accuracy_score(y_test,y_predict)\n",
    "        pre1 = metrics.precision_score(y_test,y_predict)\n",
    "        re1 = metrics.recall_score(y_test,y_predict)\n",
    "        f_1 = metrics.f1_score(y_test,y_predict)\n",
    "\n",
    "        y_acc1.append(acc1)\n",
    "        y_pre1.append(pre1)\n",
    "        y_re1.append(re1)\n",
    "        y_f_1.append(f_1)\n",
    "    \n",
    "    return y_acc1, y_pre1, y_re1, y_f_1"
   ]
  },
  {
   "cell_type": "code",
   "execution_count": 15,
   "id": "2dce297d",
   "metadata": {},
   "outputs": [],
   "source": [
    "y_accuracy, y_precision, y_recall, y_fmeasure = test_size_trial(y_acc1, y_pre1, y_re1, y_f_1)"
   ]
  },
  {
   "cell_type": "code",
   "execution_count": 16,
   "id": "2b63571a",
   "metadata": {},
   "outputs": [
    {
     "data": {
      "image/png": "[encoded data removed]",
      "text/plain": [
       "<Figure size 432x288 with 1 Axes>"
      ]
     },
     "metadata": {
      "needs_background": "light"
     },
     "output_type": "display_data"
    }
   ],
   "source": [
    "plt.plot(random_size, y_accuracy, label = 'accuracy', marker = '.')\n",
    "plt.plot(random_size, y_precision, label = 'precision', marker = 4)\n",
    "plt.plot(random_size, y_recall, label = 'recall', marker = 5)\n",
    "plt.plot(random_size, y_fmeasure, label = 'f1', marker = 6)\n",
    "\n",
    "# set x/y labels\n",
    "plt.xlabel('test size')\n",
    "plt.ylabel('score')\n",
    "\n",
    "plt.legend(bbox_to_anchor = (0.75, 1.2), ncol = 2)\n",
    "plt.show()"
   ]
  },
  {
   "cell_type": "markdown",
   "id": "2b90c393",
   "metadata": {},
   "source": [
    "From the result of the trial random_state and test size, we can see that<br/>\n",
    "at the random_state = 0 and test_size = 0.10"
   ]
  },
  {
   "cell_type": "code",
   "execution_count": 17,
   "id": "f43d1b21",
   "metadata": {},
   "outputs": [
    {
     "name": "stdout",
     "output_type": "stream",
     "text": [
      "Accuracy:  0.7948822927328557\n",
      "Precision:  0.5739030023094688\n",
      "Recall:  0.4398230088495575\n",
      "F1 (random_state = 0):  0.4979959919839679\n"
     ]
    }
   ],
   "source": [
    "# random_state = 0 and test_size = 0.10\n",
    "\n",
    "x_train, x_test, y_train, y_test = train_test_split(x_data, y_data, test_size=0.10, random_state=0)\n",
    "\n",
    "# Fit data to KNN model\n",
    "\n",
    "# Create KNN Classifier\n",
    "knn = KNeighborsClassifier(n_neighbors = 5)\n",
    "\n",
    "# Train the model using the training sets\n",
    "knn.fit(x_train, y_train)\n",
    "\n",
    "# Predict the response for test dataset\n",
    "y_predict = knn.predict(x_test)\n",
    "\n",
    "# meteics\n",
    "print(\"Accuracy: \", metrics.accuracy_score(y_test,y_predict))\n",
    "print(\"Precision: \", metrics.precision_score(y_test,y_predict))\n",
    "print(\"Recall: \", metrics.recall_score(y_test,y_predict))\n",
    "print(\"F1 (random_state = 0): \", metrics.f1_score(y_test,y_predict))"
   ]
  },
  {
   "cell_type": "markdown",
   "id": "0c5540d2",
   "metadata": {},
   "source": [
    "At first we got the following metrics score as below<br/>\n",
    "Accuracy = 79.45%<br/>\n",
    "Precision = 57.39%<br/>\n",
    "Recall =  43.98%<br/>\n",
    "F1 (random_state = 0) =  49.80%<br/>\n",
    "\n",
    "In order to get the most optimal model, we're gonna using cross-validation then"
   ]
  },
  {
   "cell_type": "markdown",
   "id": "adcf5ce0",
   "metadata": {},
   "source": [
    "# Cross-validation"
   ]
  },
  {
   "cell_type": "code",
   "execution_count": 36,
   "id": "b5a68892",
   "metadata": {},
   "outputs": [
    {
     "data": {
      "text/plain": [
       "array([0.77365787, 0.77752502, 0.77158458, 0.78079854, 0.78079854])"
      ]
     },
     "execution_count": 36,
     "metadata": {},
     "output_type": "execute_result"
    }
   ],
   "source": [
    "knn_scores = cross_val_score(knn, x_train, y_train, cv=5)\n",
    "knn_scores"
   ]
  },
  {
   "cell_type": "code",
   "execution_count": 37,
   "id": "009cad92",
   "metadata": {},
   "outputs": [],
   "source": [
    "# create a new KNN model n_neighbors = 5\n",
    "knn_cv = KNeighborsClassifier(n_neighbors = 5)"
   ]
  },
  {
   "cell_type": "code",
   "execution_count": 40,
   "id": "bed8de12",
   "metadata": {},
   "outputs": [
    {
     "name": "stdout",
     "output_type": "stream",
     "text": [
      "[0.77365787 0.77752502 0.77158458 0.78079854 0.78079854]\n",
      "cv_scores mean: 0.7768729113208158\n",
      "cv_scores std: 0.0037295956313481656\n"
     ]
    }
   ],
   "source": [
    "# train model with cv = 5\n",
    "cv_scores = cross_val_score(knn_cv, x_train, y_train, cv=5)\n",
    "\n",
    "print(cv_scores)\n",
    "print(f'cv_scores mean: {np.mean(cv_scores)}')\n",
    "print(f'cv_scores std: {np.std(cv_scores)}')"
   ]
  },
  {
   "cell_type": "code",
   "execution_count": 41,
   "id": "1ec9cc20",
   "metadata": {},
   "outputs": [
    {
     "name": "stdout",
     "output_type": "stream",
     "text": [
      "[0.77456779 0.76910828 0.77525023 0.78207461 0.77252047 0.77365787\n",
      " 0.77820746 0.78521047 0.78270762 0.78998862]\n",
      "cv_scores mean: 0.7783293427368556\n",
      "cv_scores std: 0.006170281805230485\n"
     ]
    }
   ],
   "source": [
    "# train model with cv = 10\n",
    "cv_scores10 = cross_val_score(knn_cv, x_train, y_train, cv=10)\n",
    "\n",
    "print(cv_scores10)\n",
    "print(f'cv_scores mean: {np.mean(cv_scores10)}')\n",
    "print(f'cv_scores std: {np.std(cv_scores10)}')"
   ]
  },
  {
   "cell_type": "code",
   "execution_count": 42,
   "id": "1a757fd0",
   "metadata": {},
   "outputs": [
    {
     "name": "stdout",
     "output_type": "stream",
     "text": [
      "[0.77550324 0.76833845 0.76322074 0.77516206 0.7761856  0.78744456\n",
      " 0.78027977 0.77303754 0.76416382 0.78088737 0.78293515 0.78191126\n",
      " 0.77918089 0.78191126 0.78737201]\n",
      "cv_scores mean: 0.7771689161678019\n",
      "cv_scores std: 0.007220211162247802\n"
     ]
    }
   ],
   "source": [
    "# train model with cv = 15\n",
    "cv_scores15 = cross_val_score(knn_cv, x_train, y_train, cv=15)\n",
    "\n",
    "print(cv_scores15)\n",
    "print(f'cv_scores mean: {np.mean(cv_scores15)}')\n",
    "print(f'cv_scores std: {np.std(cv_scores15)}')"
   ]
  },
  {
   "cell_type": "code",
   "execution_count": 43,
   "id": "e1a80fdc",
   "metadata": {},
   "outputs": [],
   "source": [
    "# cv = 5\n",
    "mean = np.mean(cv_scores)\n",
    "std = np.std(cv_scores)\n",
    "x_index = []\n",
    "for index, value in enumerate(cv_scores):\n",
    "    x_index.append(index+1)\n",
    "\n",
    "# cv = 10\n",
    "mean10 = np.mean(cv_scores10)\n",
    "std10 = np.std(cv_scores10)\n",
    "x_index10 = []\n",
    "for index10, value in enumerate(cv_scores10):\n",
    "    x_index10.append(index10+1)\n",
    "\n",
    "# cv = 15\n",
    "mean15 = np.mean(cv_scores15)\n",
    "std15 = np.std(cv_scores15)\n",
    "x_index15 = []\n",
    "for index15, value in enumerate(cv_scores15):\n",
    "    x_index15.append(index15+1)\n",
    "    \n",
    "# #plt.fill_between(x_index, mean-std, mean+std, color = '#afeeee')\n",
    "# plt.show()\n",
    "\n",
    "# # set x/y labels\n",
    "# plt.xlabel('cv')\n",
    "# plt.ylabel('cv_scores')"
   ]
  },
  {
   "cell_type": "markdown",
   "id": "07ca8d71",
   "metadata": {},
   "source": [
    "### Cross validation plot (y axis : accuracy)"
   ]
  },
  {
   "cell_type": "code",
   "execution_count": 131,
   "id": "94ebf35a",
   "metadata": {
    "scrolled": true
   },
   "outputs": [
    {
     "data": {
      "image/png": "[encoded data removed]",
      "text/plain": [
       "<Figure size 1440x216 with 3 Axes>"
      ]
     },
     "metadata": {
      "needs_background": "light"
     },
     "output_type": "display_data"
    }
   ],
   "source": [
    "# cv =  5\n",
    "plt.subplot(1, 3, 1)\n",
    "plt.errorbar(x_index, cv_scores, yerr = std, color = '#282e54', marker = '.')\n",
    "plt.title(\"k = 5\")\n",
    "plt.ylabel('Accuracy rate')\n",
    "plt.xticks(range(1, 6, 1))\n",
    "\n",
    "# cv =  10\n",
    "plt.subplot(1, 3, 2)\n",
    "plt.errorbar(x_index10, cv_scores10, yerr = std10, color = '#284e54', marker = '.')\n",
    "plt.title(\"k = 10\")\n",
    "plt.ylabel('Accuracy rate')\n",
    "plt.xticks(range(1, 11, 1))\n",
    "\n",
    "# cv =  15\n",
    "plt.subplot(1, 3, 3)\n",
    "plt.errorbar(x_index15, cv_scores15, yerr = std15, color = '#286e54', marker = '.')\n",
    "plt.title(\"k = 15\")\n",
    "plt.ylabel('Accuracy rate')\n",
    "plt.xticks(range(1, 16, 1))\n",
    "\n",
    "plt.subplots_adjust(wspace = 0.5)\n",
    "\n",
    "plt.rcParams['figure.figsize'] = (20, 3)"
   ]
  },
  {
   "cell_type": "code",
   "execution_count": 115,
   "id": "b5ceb281",
   "metadata": {},
   "outputs": [
    {
     "name": "stdout",
     "output_type": "stream",
     "text": [
      "Accuracy 0.7783293427368556\n"
     ]
    }
   ],
   "source": [
    "accuracy = cross_val_score(knn_cv, x_train, y_train, cv=10, scoring ='accuracy').mean()\n",
    "print(\"Accuracy {}\".format(accuracy))"
   ]
  },
  {
   "cell_type": "markdown",
   "id": "3af2ffc8",
   "metadata": {},
   "source": [
    "# Find the optimal K"
   ]
  },
  {
   "cell_type": "code",
   "execution_count": 58,
   "id": "9cf5a012",
   "metadata": {},
   "outputs": [],
   "source": [
    "#1. cross-validation score\n",
    "#2. train set score\n",
    "#3. test set score\n",
    "\n",
    "cross_score = []\n",
    "cv_mean = []\n",
    "cv_std = []\n",
    "train_score = []\n",
    "test_score = []\n",
    "k_value = np.arange(1,50)\n",
    "model = []\n",
    "\n",
    "for k in k_value:\n",
    "    knn_model = KNeighborsClassifier(k)\n",
    "\n",
    "    #cross-validation list\n",
    "    cross_val = cross_val_score(knn_model, x_train, y_train, cv=10)\n",
    "    cv_mean.append(np.mean(cross_val))\n",
    "    cv_std.append(np.std(cross_val))\n",
    "    model.append(knn_model)\n",
    "\n",
    "    #train list\n",
    "    knn_model.fit(x_train,y_train)\n",
    "\n",
    "    y_train_pr = knn_model.predict(x_train)\n",
    "    acc_train = metrics.accuracy_score(y_train, y_train_pr)\n",
    "    train_score.append(acc_train)\n",
    "\n",
    "    #test list\n",
    "    knn_model.fit(x_test, y_test)\n",
    "    y_test_pr = knn_model.predict(x_test)\n",
    "    acc_test = metrics.accuracy_score(y_test, y_test_pr)\n",
    "    test_score.append(acc_test)"
   ]
  },
  {
   "cell_type": "code",
   "execution_count": 65,
   "id": "686cba56",
   "metadata": {},
   "outputs": [
    {
     "data": {
      "image/png": "[encoded data removed]",
      "text/plain": [
       "<Figure size 720x288 with 1 Axes>"
      ]
     },
     "metadata": {
      "needs_background": "light"
     },
     "output_type": "display_data"
    }
   ],
   "source": [
    "# visulization\n",
    "plt.figure(figsize = (10, 4))\n",
    "#test\n",
    "plt.plot(k_value, test_score, label = 'test score')\n",
    "\n",
    "#train\n",
    "plt.plot(k_value, train_score, label = 'train score')\n",
    "\n",
    "#cross-validation\n",
    "plt.errorbar(k_value, cv_mean, yerr=cv_std, label='Cross-Validation')\n",
    "\n",
    "plt.xlabel('K value')\n",
    "plt.ylabel('Accuracy rate')\n",
    "plt.legend(loc='upper right', ncol=1)\n",
    "plt.title('KNN model: Accuracy rate and K value plot')\n",
    "\n",
    "plt.show()"
   ]
  },
  {
   "cell_type": "code",
   "execution_count": 128,
   "id": "78361b1f",
   "metadata": {},
   "outputs": [
    {
     "data": {
      "text/plain": [
       "KNeighborsClassifier(n_neighbors=29)"
      ]
     },
     "execution_count": 128,
     "metadata": {},
     "output_type": "execute_result"
    }
   ],
   "source": [
    "# optimal K\n",
    "# max-score of cv_mean\n",
    "\n",
    "optimal_model = model[max_score]\n",
    "optimal_model"
   ]
  },
  {
   "cell_type": "code",
   "execution_count": 129,
   "id": "37846b34",
   "metadata": {},
   "outputs": [
    {
     "name": "stdout",
     "output_type": "stream",
     "text": [
      "The optimal K-value = 29\n"
     ]
    }
   ],
   "source": [
    "# best score\n",
    "for index1, value1 in enumerate(cv_mean):\n",
    "    if value1 == max(cv_mean):\n",
    "        max_score = index1\n",
    "        print(f\"The optimal K-value = {max_score+1}\")"
   ]
  },
  {
   "cell_type": "code",
   "execution_count": 134,
   "id": "026a27b9",
   "metadata": {},
   "outputs": [
    {
     "name": "stdout",
     "output_type": "stream",
     "text": [
      "Accuracy rate = 0.8077789150460594\n",
      "Confusion matrix:\n",
      " = [[3480  275]\n",
      " [ 664  466]]\n",
      "              precision    recall  f1-score   support\n",
      "\n",
      "           0       0.84      0.93      0.88      3755\n",
      "           1       0.63      0.41      0.50      1130\n",
      "\n",
      "    accuracy                           0.81      4885\n",
      "   macro avg       0.73      0.67      0.69      4885\n",
      "weighted avg       0.79      0.81      0.79      4885\n",
      "\n"
     ]
    }
   ],
   "source": [
    "# fit model to unseen data\n",
    "optimal_model.fit(x_train, y_train)\n",
    "\n",
    "y_pred = optimal_model.predict(x_test)\n",
    "\n",
    "print(f\"Accuracy rate = {metrics.accuracy_score(y_test, y_pred)}\")\n",
    "# print(f\"Precision = {metrics.precision_score(y_test, y_pred)}\")\n",
    "# print(f\"Recall = {metrics.recall_score(y_test, y_pred)}\")\n",
    "# print(f\"F1 = {metrics.f1_score(y_test, y_pred)}\")\n",
    "print(f\"Confusion matrix:\\n = {metrics.confusion_matrix(y_test, y_pred)}\")\n",
    "print(metrics.classification_report(y_test, y_pred))"
   ]
  },
  {
   "cell_type": "code",
   "execution_count": null,
   "id": "6ea1d232",
   "metadata": {},
   "outputs": [],
   "source": [
    "# where 0 is <= 50 and 1 "
   ]
  }
 ],
 "metadata": {
  "kernelspec": {
   "display_name": "Python 3",
   "language": "python",
   "name": "python3"
  },
  "language_info": {
   "codemirror_mode": {
    "name": "ipython",
    "version": 3
   },
   "file_extension": ".py",
   "mimetype": "text/x-python",
   "name": "python",
   "nbconvert_exporter": "python",
   "pygments_lexer": "ipython3",
   "version": "3.8.8"
  }
 },
 "nbformat": 4,
 "nbformat_minor": 5
}
